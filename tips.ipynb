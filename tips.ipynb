{
 "cells": [
  {
   "cell_type": "markdown",
   "metadata": {},
   "source": [
    "# Communication"
   ]
  },
  {
   "cell_type": "markdown",
   "metadata": {},
   "source": [
    "## Serial Terminal\n",
    "### Picocom\n",
    "ctrl e to enter paste mode, ctrl d to run it\n",
    "\n",
    "### YAT (Yet Another Terminal)\n",
    "\n",
    "### Putty"
   ]
  },
  {
   "cell_type": "markdown",
   "metadata": {},
   "source": [
    "## WebREPL\n",
    "\n",
    "http://docs.micropython.org/en/latest/esp8266/esp8266/quickref.html\n",
    "\n",
    "Connects over websocket\n",
    "\n",
    "transfer files, REPL"
   ]
  },
  {
   "cell_type": "markdown",
   "metadata": {},
   "source": [
    "## File transfer\n",
    "\n",
    "sudo pip3 install adafruit-ampy\n",
    "\n",
    "ftp server"
   ]
  },
  {
   "cell_type": "markdown",
   "metadata": {},
   "source": [
    "## Frozen modules\n",
    "\n",
    "In build directory:\n",
    "    \n",
    "- /modules: pre-compiled to bytecode and frozen into the runtime\n",
    "- /scripts: source frozen into the runtime"
   ]
  },
  {
   "cell_type": "markdown",
   "metadata": {},
   "source": [
    "## Upip\n",
    "\n",
    "MicroPython package manager"
   ]
  },
  {
   "cell_type": "markdown",
   "metadata": {},
   "source": [
    "help('modules')"
   ]
  }
 ],
 "metadata": {
  "kernelspec": {
   "display_name": "Python 3",
   "language": "python",
   "name": "python3"
  },
  "language_info": {
   "codemirror_mode": {
    "name": "ipython",
    "version": 3
   },
   "file_extension": ".py",
   "mimetype": "text/x-python",
   "name": "python",
   "nbconvert_exporter": "python",
   "pygments_lexer": "ipython3",
   "version": "3.6.3"
  }
 },
 "nbformat": 4,
 "nbformat_minor": 2
}
